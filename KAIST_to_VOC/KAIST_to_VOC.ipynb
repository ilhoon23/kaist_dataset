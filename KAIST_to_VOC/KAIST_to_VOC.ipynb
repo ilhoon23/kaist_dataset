{
 "cells": [
  {
   "cell_type": "code",
   "execution_count": 3,
   "metadata": {},
   "outputs": [],
   "source": [
    "import os\n",
    "import shutil\n",
    "source_directory = 'images/' #suppose images are in images/setXX/VXXX/lwir or images/setXX/VXXX/visible"
   ]
  },
  {
   "cell_type": "code",
   "execution_count": 14,
   "metadata": {},
   "outputs": [],
   "source": [
    "#splitting data into lwir, visible\n",
    "\n",
    "for root, dirs, files in os.walk(source_directory):\n",
    "    for file in files:\n",
    "        if '/lwir' in root and file.endswith('.jpg'):\n",
    "            dest_directory = os.path.join('lwir', root.split('/')[-3], root.split('/')[-2])\n",
    "            os.makedirs(dest_directory, exist_ok=True)\n",
    "            shutil.move(os.path.join(root, file), os.path.join(dest_directory, file))\n",
    "        elif '/visible' in root and file.endswith('.jpg'):\n",
    "            dest_directory = os.path.join('visible', root.split('/')[-3], root.split('/')[-2])\n",
    "            os.makedirs(dest_directory, exist_ok=True)\n",
    "            shutil.move(os.path.join(root, file), os.path.join(dest_directory, file))\n"
   ]
  },
  {
   "cell_type": "code",
   "execution_count": 16,
   "metadata": {},
   "outputs": [],
   "source": [
    "shutil.rmtree('images')"
   ]
  },
  {
   "cell_type": "code",
   "execution_count": 17,
   "metadata": {},
   "outputs": [],
   "source": [
    "os.makedirs('./lwir/JPEGImages', exist_ok=True)\n",
    "for folder_name in os.listdir('./lwir'):\n",
    "    if os.path.isdir(os.path.join('./lwir', folder_name)):\n",
    "        shutil.move(os.path.join('./lwir', folder_name), './lwir/JPEGImages')"
   ]
  },
  {
   "cell_type": "code",
   "execution_count": 18,
   "metadata": {},
   "outputs": [],
   "source": [
    "os.makedirs('./visible/JPEGImages', exist_ok=True)\n",
    "for folder_name in os.listdir('./visible'):\n",
    "    if os.path.isdir(os.path.join('./visible', folder_name)):\n",
    "        shutil.move(os.path.join('./visible', folder_name), './visible/JPEGImages')"
   ]
  },
  {
   "cell_type": "code",
   "execution_count": 20,
   "metadata": {},
   "outputs": [
    {
     "ename": "FileNotFoundError",
     "evalue": "[Errno 2] No such file or directory: 'annotations-xml-new' -> 'Annotations-old'",
     "output_type": "error",
     "traceback": [
      "\u001b[0;31m---------------------------------------------------------------------------\u001b[0m",
      "\u001b[0;31mFileNotFoundError\u001b[0m                         Traceback (most recent call last)",
      "\u001b[1;32m/home/diml/hddsdb/kaist_dataset/kaist-cvpr15/to_VOC.ipynb Cell 6\u001b[0m in \u001b[0;36m<cell line: 1>\u001b[0;34m()\u001b[0m\n\u001b[0;32m----> <a href='vscode-notebook-cell://ssh-remote%2B165.132.56.164/home/diml/hddsdb/kaist_dataset/kaist-cvpr15/to_VOC.ipynb#W5sdnNjb2RlLXJlbW90ZQ%3D%3D?line=0'>1</a>\u001b[0m os\u001b[39m.\u001b[39;49mrename(\u001b[39m'\u001b[39;49m\u001b[39mannotations-xml-new\u001b[39;49m\u001b[39m'\u001b[39;49m, \u001b[39m'\u001b[39;49m\u001b[39mAnnotations-old\u001b[39;49m\u001b[39m'\u001b[39;49m)\n",
      "\u001b[0;31mFileNotFoundError\u001b[0m: [Errno 2] No such file or directory: 'annotations-xml-new' -> 'Annotations-old'"
     ]
    }
   ],
   "source": [
    "os.rename('annotations-xml-new', 'Annotations-old')"
   ]
  },
  {
   "cell_type": "code",
   "execution_count": 21,
   "metadata": {},
   "outputs": [],
   "source": [
    "os.rename('annotations-xml-new-sanitized', 'Annotations')"
   ]
  },
  {
   "cell_type": "code",
   "execution_count": 23,
   "metadata": {},
   "outputs": [
    {
     "data": {
      "text/plain": [
       "'./lwir/Annotations'"
      ]
     },
     "execution_count": 23,
     "metadata": {},
     "output_type": "execute_result"
    }
   ],
   "source": [
    "shutil.copytree('Annotations', './lwir/Annotations')"
   ]
  },
  {
   "cell_type": "code",
   "execution_count": 24,
   "metadata": {},
   "outputs": [
    {
     "data": {
      "text/plain": [
       "'./visible/Annotations'"
      ]
     },
     "execution_count": 24,
     "metadata": {},
     "output_type": "execute_result"
    }
   ],
   "source": [
    "shutil.copytree('Annotations', './visible/Annotations')"
   ]
  },
  {
   "cell_type": "code",
   "execution_count": 26,
   "metadata": {},
   "outputs": [],
   "source": [
    "os.makedirs('./lwir/ImageSets/Main', exist_ok=True)"
   ]
  },
  {
   "cell_type": "code",
   "execution_count": 27,
   "metadata": {},
   "outputs": [],
   "source": [
    "os.makedirs('./visible/ImageSets/Main', exist_ok=True)"
   ]
  },
  {
   "cell_type": "code",
   "execution_count": 29,
   "metadata": {},
   "outputs": [
    {
     "data": {
      "text/plain": [
       "'./visible/ImageSets/Main/train_s.txt'"
      ]
     },
     "execution_count": 29,
     "metadata": {},
     "output_type": "execute_result"
    }
   ],
   "source": [
    "shutil.copy('./imageSets/train-all-01.txt', './visible/ImageSets/Main/train_s.txt')"
   ]
  },
  {
   "cell_type": "code",
   "execution_count": 30,
   "metadata": {},
   "outputs": [
    {
     "data": {
      "text/plain": [
       "'./lwir/ImageSets/Main/test_t.txt'"
      ]
     },
     "execution_count": 30,
     "metadata": {},
     "output_type": "execute_result"
    }
   ],
   "source": [
    "shutil.copy('./imageSets/train-all-01.txt', './lwir/ImageSets/Main/train_t.txt')\n",
    "shutil.copy('./imageSets/test-all-01.txt', './lwir/ImageSets/Main/test_t.txt')"
   ]
  },
  {
   "cell_type": "code",
   "execution_count": 31,
   "metadata": {},
   "outputs": [],
   "source": [
    "shutil.rmtree('./imageSets')\n",
    "shutil.rmtree('./Annotations')"
   ]
  },
  {
   "cell_type": "code",
   "execution_count": null,
   "metadata": {},
   "outputs": [],
   "source": []
  }
 ],
 "metadata": {
  "kernelspec": {
   "display_name": "Python 3",
   "language": "python",
   "name": "python3"
  },
  "language_info": {
   "codemirror_mode": {
    "name": "ipython",
    "version": 3
   },
   "file_extension": ".py",
   "mimetype": "text/x-python",
   "name": "python",
   "nbconvert_exporter": "python",
   "pygments_lexer": "ipython3",
   "version": "3.9.12"
  },
  "orig_nbformat": 4
 },
 "nbformat": 4,
 "nbformat_minor": 2
}
